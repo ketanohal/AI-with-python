{
 "cells": [
  {
   "cell_type": "markdown",
   "id": "d85a18c6",
   "metadata": {},
   "source": [
    "# Basics\n"
   ]
  },
  {
   "cell_type": "code",
   "execution_count": 1,
   "id": "f05ed5ab",
   "metadata": {},
   "outputs": [
    {
     "name": "stdout",
     "output_type": "stream",
     "text": [
      "Hello world\n"
     ]
    }
   ],
   "source": [
    "# Hello world program\n",
    "\n",
    "print('Hello world') # printing hello world text"
   ]
  },
  {
   "cell_type": "code",
   "execution_count": 8,
   "id": "66ccd600",
   "metadata": {},
   "outputs": [
    {
     "name": "stdout",
     "output_type": "stream",
     "text": [
      "Enter a word: Example of keywords\n",
      "Example of keywords\n"
     ]
    }
   ],
   "source": [
    "# Kewords\n",
    "def function(): # defing an user defined function\n",
    "    num = (input(\"Enter a word: \")) # taking input from user and storing in num variable\n",
    "    print(num) # printing the user's output\n",
    "function() #calling a function \n",
    "\n",
    "\n",
    "# In this example def,print are the keywords"
   ]
  },
  {
   "cell_type": "code",
   "execution_count": 9,
   "id": "f91bbaa5",
   "metadata": {},
   "outputs": [
    {
     "name": "stdout",
     "output_type": "stream",
     "text": [
      "Enter a word: example of identifiers\n",
      "example of identifiers\n"
     ]
    }
   ],
   "source": [
    "# Identifiers\n",
    "def functionname(): # defining an user defined function\n",
    "    num = (input(\"Enter a word: \")) # taking input from user and storing num variable\n",
    "    print(num) # print the input of user \n",
    "functionname() # calling a function\n",
    "\n",
    "\n",
    "# In this example functionname, num are the identifers"
   ]
  },
  {
   "cell_type": "code",
   "execution_count": 16,
   "id": "b922e565",
   "metadata": {},
   "outputs": [
    {
     "name": "stdout",
     "output_type": "stream",
     "text": [
      "Enter a number: 23\n"
     ]
    },
    {
     "data": {
      "text/plain": [
       "int"
      ]
     },
     "execution_count": 16,
     "metadata": {},
     "output_type": "execute_result"
    }
   ],
   "source": [
    "\"\"\"\n",
    "Data types\n",
    "Numerical data type consists of 1) Int 2) float 3) complex \n",
    "\n",
    "\"\"\"\n",
    "#Example of Int data type\n",
    "\n",
    "num = int(input(\"Enter a number: \")) # taking input from user and storing in num variable\n",
    "type(num) #printing the data type of variable"
   ]
  },
  {
   "cell_type": "code",
   "execution_count": 18,
   "id": "30e4cf36",
   "metadata": {},
   "outputs": [
    {
     "name": "stdout",
     "output_type": "stream",
     "text": [
      "Enter a number: 12\n",
      "12.0\n"
     ]
    },
    {
     "data": {
      "text/plain": [
       "float"
      ]
     },
     "execution_count": 18,
     "metadata": {},
     "output_type": "execute_result"
    }
   ],
   "source": [
    "# Example of float data type\n",
    "\n",
    "num = float(input(\"Enter a number: \")) # taking input from user and storing num variable\n",
    "print(num) # printing a user's input \n",
    "type(num) # printing the data type of variable"
   ]
  },
  {
   "cell_type": "code",
   "execution_count": 19,
   "id": "3411c870",
   "metadata": {},
   "outputs": [
    {
     "name": "stdout",
     "output_type": "stream",
     "text": [
      "Enter a number: 3+4j\n",
      "(3+4j)\n"
     ]
    },
    {
     "data": {
      "text/plain": [
       "complex"
      ]
     },
     "execution_count": 19,
     "metadata": {},
     "output_type": "execute_result"
    }
   ],
   "source": [
    "# Example of complex number\n",
    "\n",
    "num = complex(input(\"Enter a number: \")) #taking input from user and storing in num variable\n",
    "print(num) # printing a user's input \n",
    "type(num) # printing type of varaible"
   ]
  },
  {
   "cell_type": "code",
   "execution_count": 20,
   "id": "3af51846",
   "metadata": {},
   "outputs": [
    {
     "name": "stdout",
     "output_type": "stream",
     "text": [
      "[1, 2, 3, 4]\n"
     ]
    },
    {
     "data": {
      "text/plain": [
       "list"
      ]
     },
     "execution_count": 20,
     "metadata": {},
     "output_type": "execute_result"
    }
   ],
   "source": [
    "# Sequential Data type consists of 1) list 2) Tuple 3) Set 4) Dictionary 5) String\n",
    "\n",
    "# Example of list data type\n",
    "\n",
    "l1 = [1,2,3,4] #creating and storing elements in list l1\n",
    "print(l1) # printing the list\n",
    "type(l1) # printing the type of list"
   ]
  },
  {
   "cell_type": "code",
   "execution_count": 21,
   "id": "d218ef38",
   "metadata": {},
   "outputs": [
    {
     "name": "stdout",
     "output_type": "stream",
     "text": [
      "(1, 2, 3, 4)\n"
     ]
    },
    {
     "data": {
      "text/plain": [
       "tuple"
      ]
     },
     "execution_count": 21,
     "metadata": {},
     "output_type": "execute_result"
    }
   ],
   "source": [
    "# Example of Tuple data type\n",
    "\n",
    "t1 = (1,2,3,4) # creating and storing elements in tuple t1 variable\n",
    "print(t1) # printing the tuple \n",
    "type(t1) # printing the type of t1 varialbe"
   ]
  },
  {
   "cell_type": "code",
   "execution_count": 23,
   "id": "52ee5afe",
   "metadata": {},
   "outputs": [
    {
     "name": "stdout",
     "output_type": "stream",
     "text": [
      "{1, 2, 3, 4}\n"
     ]
    },
    {
     "data": {
      "text/plain": [
       "set"
      ]
     },
     "execution_count": 23,
     "metadata": {},
     "output_type": "execute_result"
    }
   ],
   "source": [
    "# Example of Set data type\n",
    "\n",
    "s1 = {1,2,3,4} # creating and storing elements in set s1 vairable\n",
    "print(s1) # printing the set\n",
    "type(s1) # printing the type of s1 variable"
   ]
  },
  {
   "cell_type": "code",
   "execution_count": 25,
   "id": "238fae26",
   "metadata": {},
   "outputs": [
    {
     "name": "stdout",
     "output_type": "stream",
     "text": [
      "{1: 'First_Name', 2: 'second_Name', 3: 'Last_Name'}\n"
     ]
    },
    {
     "data": {
      "text/plain": [
       "dict"
      ]
     },
     "execution_count": 25,
     "metadata": {},
     "output_type": "execute_result"
    }
   ],
   "source": [
    "# Example of Dictionary data type\n",
    "\n",
    "D1 = {1:'First_Name',2:'second_Name',3:'Last_Name'} #creating and storing the keys and values in dictionary D1 variable\n",
    "print(D1) # printing the Dictionary D1 variable\n",
    "type(D1) # printing the type of variable D1"
   ]
  },
  {
   "cell_type": "code",
   "execution_count": 29,
   "id": "e42f8bfb",
   "metadata": {},
   "outputs": [
    {
     "name": "stdout",
     "output_type": "stream",
     "text": [
      "This is string\n"
     ]
    },
    {
     "data": {
      "text/plain": [
       "str"
      ]
     },
     "execution_count": 29,
     "metadata": {},
     "output_type": "execute_result"
    }
   ],
   "source": [
    "# Example of String data type\n",
    "\n",
    "s1 = 'This is string' # creating and storing string in s1 variable\n",
    "print(s1) # printing the string s1 variable\n",
    "type(s1) #printing the type of s1 variable"
   ]
  },
  {
   "cell_type": "code",
   "execution_count": 30,
   "id": "6baa3000",
   "metadata": {},
   "outputs": [
    {
     "name": "stdout",
     "output_type": "stream",
     "text": [
      "True\n"
     ]
    },
    {
     "data": {
      "text/plain": [
       "bool"
      ]
     },
     "execution_count": 30,
     "metadata": {},
     "output_type": "execute_result"
    }
   ],
   "source": [
    "# Example of boolean data type\n",
    "\n",
    "b1 = True #creating and assigning the boolean value in b1 variable\n",
    "print(b1) # printing the b1 variable\n",
    "type(b1) # printing the type of variable b1"
   ]
  },
  {
   "cell_type": "code",
   "execution_count": 39,
   "id": "dbf403d4",
   "metadata": {},
   "outputs": [
    {
     "name": "stdout",
     "output_type": "stream",
     "text": [
      "The original list [1, 2, 3, 4, 5, 6, 7, 8, 9]\n",
      "After slicing operation generated list is : [3, 5, 7]\n"
     ]
    }
   ],
   "source": [
    "#Slicing operations on List, tuple, String\n",
    "\n",
    "l1 =[1,2,3,4,5,6,7,8,9] # list created and stored in l1 variable\n",
    "print(f\"The original list {l1}\")\n",
    "l2=l1[2:7:2] # slicing operation [start_value:end_value:step]\n",
    "print(f\"After slicing operation generated list is : {l2}\") #printing the list after slicing operation"
   ]
  },
  {
   "cell_type": "code",
   "execution_count": 52,
   "id": "7bb4f51c",
   "metadata": {},
   "outputs": [
    {
     "name": "stdout",
     "output_type": "stream",
     "text": [
      "The original tuple (1, 2, 3, 4, 5, 6, 7, 8, 9)\n",
      "After slicing operation generated tuple is : (1, 3, 5, 7)\n"
     ]
    }
   ],
   "source": [
    "#Slicing operation on tuple\n",
    "\n",
    "t1 =(1,2,3,4,5,6,7,8,9) # tuple created and stored in t1 variable\n",
    "print(f\"The original tuple {s1}\")\n",
    "t2 = t1[0:7:2] # slicing operation [start_value:end_value:step]\n",
    "print(f\"After slicing operation generated tuple is : {t2}\") #printing the list after slicing operation"
   ]
  },
  {
   "cell_type": "code",
   "execution_count": 55,
   "id": "8dfe6d9d",
   "metadata": {},
   "outputs": [
    {
     "name": "stdout",
     "output_type": "stream",
     "text": [
      "The original string is: This is string\n",
      "After slicing operation generated string is : i s\n"
     ]
    }
   ],
   "source": [
    "#Slicing operation on string\n",
    "\n",
    "str1 ='This is string' # list created and stored in str1 variable\n",
    "print(f\"The original string is: {str1}\")\n",
    "str2=str1[2:7:2] # slicing operation [start_value:end_value:step]\n",
    "print(f\"After slicing operation generated string is : {str2}\") #printing the string after slicing operation"
   ]
  },
  {
   "cell_type": "code",
   "execution_count": 63,
   "id": "0c16fa47",
   "metadata": {},
   "outputs": [
    {
     "name": "stdout",
     "output_type": "stream",
     "text": [
      "{'name': 'ketan', 'age': 22, 'college': 'fuel', 'branch': 'AI'}\n",
      "ketan\n"
     ]
    }
   ],
   "source": [
    "#Dictionary can be accesed using index i.e key\n",
    "i = {                                 #Creating the dictionary and storing in i variable\n",
    "    'name':'ketan',                 \n",
    "    'age':22,\n",
    "    'college':'fuel',\n",
    "    'branch':\"AI\"\n",
    "}\n",
    "print(i) # printing the dictionary\n",
    "i2 = i['name']  # accesing the dictionary using key\n",
    "print(i2)      # printing the value of key"
   ]
  },
  {
   "cell_type": "code",
   "execution_count": 64,
   "id": "6c8e501f",
   "metadata": {},
   "outputs": [
    {
     "name": "stdout",
     "output_type": "stream",
     "text": [
      " Even list: [2, 4, 6, 8, 10, 12, 14, 16, 18] \n",
      " Odd List: [1, 3, 5, 7, 9, 11, 13, 15, 17, 19]\n"
     ]
    }
   ],
   "source": [
    "# Even and odd list using for and if else loop\n",
    "even = []\n",
    "odd = []\n",
    "for i in range(1,20):\n",
    "    if i%2 == 0:\n",
    "        even.append(i)\n",
    "    else:\n",
    "        odd.append(i)\n",
    "print(f\" Even list: {even} \\n Odd List: {odd}\")"
   ]
  },
  {
   "cell_type": "code",
   "execution_count": 74,
   "id": "9cd90a2c",
   "metadata": {},
   "outputs": [
    {
     "name": "stdout",
     "output_type": "stream",
     "text": [
      "12.0\n",
      "<class 'float'>\n",
      "12\n",
      "<class 'int'>\n"
     ]
    }
   ],
   "source": [
    "# Typecasting\n",
    "# Int to float and viceversa\n",
    "\n",
    "a = 12\n",
    "b =  float(a)\n",
    "print(b)\n",
    "print(type(b))\n",
    "\n",
    "#float to Int:\n",
    "a = 12.34\n",
    "b =  int(a)\n",
    "print(b)\n",
    "print(type(b))"
   ]
  },
  {
   "cell_type": "code",
   "execution_count": 75,
   "id": "88b0c944",
   "metadata": {},
   "outputs": [
    {
     "name": "stdout",
     "output_type": "stream",
     "text": [
      "23\n",
      "<class 'str'>\n",
      "34\n",
      "<class 'int'>\n"
     ]
    }
   ],
   "source": [
    "# int to string and viceversa\n",
    "\n",
    "a = 23\n",
    "b = str(a)\n",
    "print(b)\n",
    "print(type(b))\n",
    "\n",
    "a = 34\n",
    "b = str(a)\n",
    "c = int(b)\n",
    "print(b)\n",
    "print(type(c))"
   ]
  },
  {
   "cell_type": "code",
   "execution_count": 78,
   "id": "5170031f",
   "metadata": {},
   "outputs": [
    {
     "name": "stdout",
     "output_type": "stream",
     "text": [
      " 23.34\n",
      "<class 'float'>\n",
      " After type casting\n",
      " b = 23.34 and it's type is <class 'str'>\n",
      " c = 23.34 and it's type is <class 'float'>\n"
     ]
    }
   ],
   "source": [
    "# float to string and viceversa\n",
    "\n",
    "a = 23.34\n",
    "print(f\" {a}\\n{type(a)}\\n After type casting\")\n",
    "b = str(a)\n",
    "print(f\" b = {b} and it's type is {type(b)}\")\n",
    "\n",
    "c = float(b)\n",
    "print(f\" c = {c} and it's type is {type(c)}\")\n"
   ]
  },
  {
   "cell_type": "code",
   "execution_count": 80,
   "id": "07d36c03",
   "metadata": {},
   "outputs": [
    {
     "name": "stdout",
     "output_type": "stream",
     "text": [
      "abcd\n",
      "<class 'str'>\n",
      " After type casting\n",
      " b = ['a', 'b', 'c', 'd'] and it's type is <class 'list'>\n",
      " c = {'d', 'c', 'a', 'b'} and it's type is <class 'set'>\n",
      " d = ('a', 'b', 'c', 'd') and it's type is <class 'tuple'>\n"
     ]
    }
   ],
   "source": [
    "# String to list,Set,Tuple\n",
    "\n",
    "a = 'abcd'\n",
    "print(a)\n",
    "print(f\"{type(a)}\\n After type casting\")\n",
    "b = list(a)\n",
    "print(f\" b = {b} and it's type is {type(b)}\")\n",
    "\n",
    "c = set(a)\n",
    "print(f\" c = {c} and it's type is {type(c)}\")\n",
    "\n",
    "d = tuple(a)\n",
    "print(f\" d = {d} and it's type is {type(d)}\")"
   ]
  },
  {
   "cell_type": "code",
   "execution_count": 84,
   "id": "1d7a8262",
   "metadata": {},
   "outputs": [
    {
     "name": "stdout",
     "output_type": "stream",
     "text": [
      "['a', 'b', 'c', 'd']\n",
      "<class 'list'>\n",
      " After type casting\n",
      " b = ('a', 'b', 'c', 'd') and it's type is <class 'tuple'>\n"
     ]
    }
   ],
   "source": [
    "# List to tuple \n",
    "\n",
    "a = ['a', 'b', 'c', 'd']\n",
    "print(a)\n",
    "print(f\"{type(a)}\\n After type casting\")\n",
    "b = tuple(a)\n",
    "print(f\" b = {b} and it's type is {type(b)}\")\n"
   ]
  },
  {
   "cell_type": "code",
   "execution_count": 83,
   "id": "bbd1ce51",
   "metadata": {},
   "outputs": [
    {
     "name": "stdout",
     "output_type": "stream",
     "text": [
      "{'c', 'a', 'b', 'd'}\n",
      "<class 'set'>\n",
      " After type casting\n",
      " b = ('c', 'a', 'b', 'd') and it's type is <class 'tuple'>\n"
     ]
    }
   ],
   "source": [
    "# Set To Tuple\n",
    "\n",
    "a = {'b', 'd', 'c', 'a'}\n",
    "print(a)\n",
    "print(f\"{type(a)}\\n After type casting\")\n",
    "b = tuple(a)\n",
    "print(f\" b = {b} and it's type is {type(b)}\")\n"
   ]
  },
  {
   "cell_type": "code",
   "execution_count": 86,
   "id": "88b15047",
   "metadata": {},
   "outputs": [
    {
     "name": "stdout",
     "output_type": "stream",
     "text": [
      "[(1, 'Ketan'), (2, 'Kailas'), (3, 'Ohal')]\n",
      "<class 'list'>\n",
      " After type casting\n",
      " b = {1: 'Ketan', 2: 'Kailas', 3: 'Ohal'} and it's type is <class 'dict'>\n"
     ]
    }
   ],
   "source": [
    "# List To Dictionary\n",
    "\n",
    "a = [(1,'Ketan'), (2,'Kailas'),(3,'Ohal')]\n",
    "print(a)\n",
    "print(f\"{type(a)}\\n After type casting\")\n",
    "b = dict(a)\n",
    "print(f\" b = {b} and it's type is {type(b)}\")"
   ]
  },
  {
   "cell_type": "code",
   "execution_count": 87,
   "id": "974e2082",
   "metadata": {},
   "outputs": [
    {
     "name": "stdout",
     "output_type": "stream",
     "text": [
      "{(2, 3), (4, 5), (1, 2)}\n",
      "<class 'set'>\n",
      " After type casting\n",
      " b = {2: 3, 4: 5, 1: 2} and it's type is <class 'dict'>\n"
     ]
    }
   ],
   "source": [
    "# Set to Dictionary\n",
    "\n",
    "a = {(1,2),(2,3),(4,5)}\n",
    "print(a)\n",
    "print(f\"{type(a)}\\n After type casting\")\n",
    "b = dict(a)\n",
    "print(f\" b = {b} and it's type is {type(b)}\")"
   ]
  },
  {
   "cell_type": "code",
   "execution_count": 89,
   "id": "ad1f8047",
   "metadata": {},
   "outputs": [
    {
     "name": "stdout",
     "output_type": "stream",
     "text": [
      "{2: 3, 4: 5, 1: 2}\n",
      "<class 'dict'>\n",
      " After typecasting\n",
      " b = [2, 4, 1] and it's type is <class 'list'>\n"
     ]
    }
   ],
   "source": [
    "#Dictionary to list\n",
    "\n",
    "a = {2: 3, 4: 5, 1: 2}\n",
    "print(a)\n",
    "print(f\"{type(a)}\\n After typecasting\")\n",
    "b = list(a)\n",
    "print(f\" b = {b} and it's type is {type(b)}\")"
   ]
  },
  {
   "cell_type": "code",
   "execution_count": 90,
   "id": "bd63d5f1",
   "metadata": {},
   "outputs": [
    {
     "name": "stdout",
     "output_type": "stream",
     "text": [
      "This is Default list [1, 2, 3, 4, 5, 6]\n",
      "After using append operation[1, 2, 3, 4, 5, 6, 3]\n",
      "After using extend operation[1, 2, 3, 4, 5, 6, 3, 7, 8, 9]\n",
      "After using insert operation[1, 2, 2, 3, 4, 5, 6, 3, 7, 8, 9]\n"
     ]
    }
   ],
   "source": [
    "#list Operation\n",
    "\"\"\"\n",
    "append - to insert the element at last node\n",
    "extend - to add the elemenent at last\n",
    "insert - to add the element at specific index\n",
    "\n",
    "\"\"\"\n",
    "ls = [1,2,3,4,5,6]\n",
    "print(f\"This is Default list {ls}\")\n",
    "ls.append(3)\n",
    "print(f\"After using append operation{ls}\")\n",
    "ls.extend([7,8,9])\n",
    "print(f\"After using extend operation{ls}\")\n",
    "ls.insert(2,2)\n",
    "print(f\"After using insert operation{ls}\")"
   ]
  },
  {
   "cell_type": "code",
   "execution_count": null,
   "id": "7e73cfc7",
   "metadata": {},
   "outputs": [],
   "source": []
  },
  {
   "cell_type": "code",
   "execution_count": 68,
   "id": "567adc3f",
   "metadata": {},
   "outputs": [
    {
     "name": "stdout",
     "output_type": "stream",
     "text": [
      "Enter first number14\n",
      "Enter second number for calculation45\n",
      "Enter the no. of operation you want to perform: \n",
      " 1.Addition \n",
      " 2.Substraction \n",
      " 3.Multiplication \n",
      " 4.Division\n",
      "1\n",
      "59\n"
     ]
    }
   ],
   "source": [
    "# functions\n",
    "\n",
    "def calculator():\n",
    "    \n",
    "        num1 = int(input(\"Enter first number\"))\n",
    "        num2 = int(input(\"Enter second number for calculation\"))\n",
    "        operation = input(\"Enter the no. of operation you want to perform: \\n 1.Addition \\n 2.Substraction \\n 3.Multiplication \\n 4.Division\\n\")\n",
    "        if operation == '1':\n",
    "            add = num1 + num2\n",
    "            print(add) \n",
    "        elif operation == '2':\n",
    "            sub = num1 - num2\n",
    "            print(sub)\n",
    "        elif operation == '3':\n",
    "            mul = num1 * num2\n",
    "            print(mul)\n",
    "        elif operation == '4':\n",
    "            print(num1/num2)\n",
    "        else:\n",
    "            print(\"Please enter with valid response\")\n",
    "calculator()"
   ]
  }
 ],
 "metadata": {
  "kernelspec": {
   "display_name": "Python 3 (ipykernel)",
   "language": "python",
   "name": "python3"
  },
  "language_info": {
   "codemirror_mode": {
    "name": "ipython",
    "version": 3
   },
   "file_extension": ".py",
   "mimetype": "text/x-python",
   "name": "python",
   "nbconvert_exporter": "python",
   "pygments_lexer": "ipython3",
   "version": "3.10.2"
  }
 },
 "nbformat": 4,
 "nbformat_minor": 5
}
