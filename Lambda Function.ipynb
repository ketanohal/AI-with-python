{
 "cells": [
  {
   "cell_type": "code",
   "execution_count": 1,
   "id": "3a36e460",
   "metadata": {},
   "outputs": [
    {
     "data": {
      "text/plain": [
       "<function __main__.<lambda>()>"
      ]
     },
     "execution_count": 1,
     "metadata": {},
     "output_type": "execute_result"
    }
   ],
   "source": [
    "lambda:print('Hello')"
   ]
  },
  {
   "cell_type": "code",
   "execution_count": 2,
   "id": "b184c6b4",
   "metadata": {},
   "outputs": [],
   "source": [
    "p = lambda:print('Hello')"
   ]
  },
  {
   "cell_type": "code",
   "execution_count": 3,
   "id": "9b188957",
   "metadata": {},
   "outputs": [
    {
     "name": "stdout",
     "output_type": "stream",
     "text": [
      "Hello\n"
     ]
    }
   ],
   "source": [
    "p()"
   ]
  },
  {
   "cell_type": "code",
   "execution_count": 5,
   "id": "0d24f3ef",
   "metadata": {},
   "outputs": [],
   "source": [
    "sum = lambda a,b : print(a+b)\n",
    "    "
   ]
  },
  {
   "cell_type": "code",
   "execution_count": 6,
   "id": "06a03b9f",
   "metadata": {},
   "outputs": [
    {
     "name": "stdout",
     "output_type": "stream",
     "text": [
      "21\n"
     ]
    }
   ],
   "source": [
    "sum(10,11)"
   ]
  },
  {
   "cell_type": "code",
   "execution_count": 7,
   "id": "be02feab",
   "metadata": {},
   "outputs": [],
   "source": [
    "even = lambda x : print('even') if x%2 ==0 else print('odd')"
   ]
  },
  {
   "cell_type": "code",
   "execution_count": 8,
   "id": "1c2df278",
   "metadata": {},
   "outputs": [
    {
     "name": "stdout",
     "output_type": "stream",
     "text": [
      "odd\n"
     ]
    }
   ],
   "source": [
    "even(23)"
   ]
  },
  {
   "cell_type": "code",
   "execution_count": null,
   "id": "d4b7ab82",
   "metadata": {},
   "outputs": [],
   "source": []
  }
 ],
 "metadata": {
  "kernelspec": {
   "display_name": "Python 3 (ipykernel)",
   "language": "python",
   "name": "python3"
  },
  "language_info": {
   "codemirror_mode": {
    "name": "ipython",
    "version": 3
   },
   "file_extension": ".py",
   "mimetype": "text/x-python",
   "name": "python",
   "nbconvert_exporter": "python",
   "pygments_lexer": "ipython3",
   "version": "3.10.2"
  }
 },
 "nbformat": 4,
 "nbformat_minor": 5
}
