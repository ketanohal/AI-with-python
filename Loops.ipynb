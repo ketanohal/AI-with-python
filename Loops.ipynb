{
 "cells": [
  {
   "cell_type": "markdown",
   "id": "475d7191",
   "metadata": {},
   "source": [
    "#### For Loop "
   ]
  },
  {
   "cell_type": "code",
   "execution_count": 1,
   "id": "7c6101f8",
   "metadata": {},
   "outputs": [
    {
     "name": "stdout",
     "output_type": "stream",
     "text": [
      "1\n",
      "2\n",
      "3\n",
      "4\n",
      "5\n",
      "6\n",
      "7\n",
      "8\n",
      "9\n"
     ]
    }
   ],
   "source": [
    "for a in range(1,10):\n",
    "    print(a)"
   ]
  },
  {
   "cell_type": "code",
   "execution_count": 2,
   "id": "abf6249c",
   "metadata": {},
   "outputs": [
    {
     "name": "stdout",
     "output_type": "stream",
     "text": [
      "Even\n",
      "Even\n",
      "Even\n",
      "Even\n"
     ]
    }
   ],
   "source": [
    "k = range(1,10)\n",
    "for a in k:\n",
    "    if a%2==0:\n",
    "        print(\"Even\")"
   ]
  },
  {
   "cell_type": "markdown",
   "id": "1fd3f505",
   "metadata": {},
   "source": [
    "#### While Loop"
   ]
  },
  {
   "cell_type": "markdown",
   "id": "50b9e9e4",
   "metadata": {},
   "source": [
    "count = 1\n",
    "while count<10:\n",
    "    print(count)\n",
    "    count = count + 1\n",
    "print(\"Out of Loop\")"
   ]
  },
  {
   "cell_type": "markdown",
   "id": "9446b379",
   "metadata": {},
   "source": [
    "### For else Loop"
   ]
  },
  {
   "cell_type": "code",
   "execution_count": 5,
   "id": "82043cce",
   "metadata": {},
   "outputs": [
    {
     "name": "stdout",
     "output_type": "stream",
     "text": [
      "0\n",
      "1\n",
      "2\n",
      "3\n",
      "4\n",
      "5\n",
      "6\n",
      "7\n",
      "8\n",
      "End of loop\n",
      "ketan\n"
     ]
    }
   ],
   "source": [
    "for a in range(9):\n",
    "    print(a)\n",
    "else:\n",
    "    print(\"End of loop\")\n",
    "print(\"ketan\")"
   ]
  },
  {
   "cell_type": "markdown",
   "id": "daad7365",
   "metadata": {},
   "source": [
    "### Nested Loop"
   ]
  },
  {
   "cell_type": "code",
   "execution_count": 6,
   "id": "951c1668",
   "metadata": {},
   "outputs": [
    {
     "name": "stdout",
     "output_type": "stream",
     "text": [
      "B Loop\n",
      "B Loop\n",
      "A Loop\n",
      "B Loop\n",
      "B Loop\n",
      "A Loop\n",
      "B Loop\n",
      "B Loop\n",
      "A Loop\n"
     ]
    }
   ],
   "source": [
    "for a  in range(1,4):\n",
    "    for b in range(1,3):\n",
    "        print(\"B Loop\")\n",
    "    print(\"A Loop\")"
   ]
  },
  {
   "cell_type": "code",
   "execution_count": 10,
   "id": "5c961a2e",
   "metadata": {},
   "outputs": [
    {
     "data": {
      "text/plain": [
       "216"
      ]
     },
     "execution_count": 10,
     "metadata": {},
     "output_type": "execute_result"
    }
   ],
   "source": [
    "ls=[]\n",
    "for a in range(1,10):\n",
    "    for b in range(1,5):\n",
    "        for c in range(1,4):\n",
    "            for d in range(1,3):\n",
    "                ls.append(1)\n",
    "len(ls)\n",
    "            "
   ]
  },
  {
   "cell_type": "code",
   "execution_count": null,
   "id": "f6dd3145",
   "metadata": {},
   "outputs": [],
   "source": []
  }
 ],
 "metadata": {
  "kernelspec": {
   "display_name": "Python 3 (ipykernel)",
   "language": "python",
   "name": "python3"
  },
  "language_info": {
   "codemirror_mode": {
    "name": "ipython",
    "version": 3
   },
   "file_extension": ".py",
   "mimetype": "text/x-python",
   "name": "python",
   "nbconvert_exporter": "python",
   "pygments_lexer": "ipython3",
   "version": "3.10.2"
  }
 },
 "nbformat": 4,
 "nbformat_minor": 5
}
