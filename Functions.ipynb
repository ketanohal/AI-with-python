{
 "cells": [
  {
   "cell_type": "markdown",
   "id": "b1b226e4",
   "metadata": {},
   "source": [
    "Functions"
   ]
  },
  {
   "cell_type": "code",
   "execution_count": null,
   "id": "4ed86b6b",
   "metadata": {},
   "outputs": [],
   "source": [
    "def calculator():\n",
    "    \n",
    "        num1 = int(input(\"Enter first number\"))\n",
    "        num2 = int(input(\"Enter second number for calculation\"))\n",
    "        operation = input(\"Enter the no. of operation you want to perform: \\n 1.Addition \\n 2.Substraction \\n 3.Multiplication \\n 4.Division\\n\")\n",
    "        if operation == '1':\n",
    "            add = num1 + num2\n",
    "            print(add) \n",
    "        elif operation == '2':\n",
    "            sub = num1 - num2\n",
    "            print(sub)\n",
    "        elif operation == '3':\n",
    "            mul = num1 * num2\n",
    "            print(mul)\n",
    "        elif operation == '4':\n",
    "            print(num1/num2)\n",
    "        else:\n",
    "            print(\"Please enter with valid response\")\n",
    "calculator()"
   ]
  },
  {
   "cell_type": "code",
   "execution_count": null,
   "id": "bed9d9df",
   "metadata": {},
   "outputs": [],
   "source": []
  },
  {
   "cell_type": "code",
   "execution_count": null,
   "id": "b27a01ad",
   "metadata": {},
   "outputs": [],
   "source": []
  }
 ],
 "metadata": {
  "kernelspec": {
   "display_name": "Python 3 (ipykernel)",
   "language": "python",
   "name": "python3"
  },
  "language_info": {
   "codemirror_mode": {
    "name": "ipython",
    "version": 3
   },
   "file_extension": ".py",
   "mimetype": "text/x-python",
   "name": "python",
   "nbconvert_exporter": "python",
   "pygments_lexer": "ipython3",
   "version": "3.10.2"
  }
 },
 "nbformat": 4,
 "nbformat_minor": 5
}
