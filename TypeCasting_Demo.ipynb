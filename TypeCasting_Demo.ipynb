{
 "cells": [
  {
   "cell_type": "code",
   "execution_count": 3,
   "id": "290045e8",
   "metadata": {},
   "outputs": [
    {
     "name": "stdout",
     "output_type": "stream",
     "text": [
      "12.0\n",
      "12\n"
     ]
    }
   ],
   "source": [
    "# Int to float and viceversa\n",
    "a = 12\n",
    "b =  float(a)\n",
    "print(b)\n",
    "\n",
    "#float to Int:\n",
    "a = 12.34\n",
    "b =  int(a)\n",
    "print(b)\n",
    "\n"
   ]
  },
  {
   "cell_type": "code",
   "execution_count": 9,
   "id": "2d5df71c",
   "metadata": {},
   "outputs": [
    {
     "name": "stdout",
     "output_type": "stream",
     "text": [
      "23\n",
      "34 <class 'int'>\n"
     ]
    }
   ],
   "source": [
    "# int to string and viceversa\n",
    "a = 23\n",
    "b = str(a)\n",
    "print(b)\n",
    "type(b)\n",
    "\n",
    "a = 34\n",
    "b = str(a)\n",
    "c = int(b)\n",
    "print(b,type(c))"
   ]
  },
  {
   "cell_type": "code",
   "execution_count": 52,
   "id": "959da8e6",
   "metadata": {},
   "outputs": [
    {
     "name": "stdout",
     "output_type": "stream",
     "text": [
      "<class 'float'>\n",
      " After type casting\n",
      " b = 23.34 and it's type is <class 'str'>\n",
      " c = 23.34 and it's type is <class 'float'>\n"
     ]
    }
   ],
   "source": [
    "# float to string and viceversa\n",
    "a = 23.34\n",
    "print(f\"{type(a)}\\n After type casting\")\n",
    "b = str(a)\n",
    "print(f\" b = {b} and it's type is {type(b)}\")\n",
    "\n",
    "c = float(b)\n",
    "print(f\" c = {c} and it's type is {type(c)}\")\n"
   ]
  },
  {
   "cell_type": "code",
   "execution_count": 51,
   "id": "22579373",
   "metadata": {},
   "outputs": [
    {
     "name": "stdout",
     "output_type": "stream",
     "text": [
      "<class 'str'>\n",
      " After type casting\n",
      " b = ['a', 'b', 'c', 'd'] and it's type is <class 'list'>\n",
      " c = {'b', 'd', 'c', 'a'} and it's type is <class 'set'>\n",
      " d = ('a', 'b', 'c', 'd') and it's type is <class 'tuple'>\n"
     ]
    }
   ],
   "source": [
    "# String to list,Set,Tuple\n",
    "\n",
    "a = 'abcd'\n",
    "print(f\"{type(a)}\\n After type casting\")\n",
    "b = list(a)\n",
    "print(f\" b = {b} and it's type is {type(b)}\")\n",
    "\n",
    "c = set(a)\n",
    "print(f\" c = {c} and it's type is {type(c)}\")\n",
    "\n",
    "d = tuple(a)\n",
    "print(f\" d = {d} and it's type is {type(d)}\")\n"
   ]
  },
  {
   "cell_type": "code",
   "execution_count": 50,
   "id": "c22a5318",
   "metadata": {},
   "outputs": [
    {
     "name": "stdout",
     "output_type": "stream",
     "text": [
      "<class 'list'>\n",
      " After type casting\n",
      " b = ('a', 'b', 'c', 'd') and it's type is <class 'tuple'>\n"
     ]
    }
   ],
   "source": [
    "# List to tuple \n",
    "a = ['a', 'b', 'c', 'd']\n",
    "print(f\"{type(a)}\\n After type casting\")\n",
    "b = tuple(a)\n",
    "print(f\" b = {b} and it's type is {type(b)}\")\n"
   ]
  },
  {
   "cell_type": "code",
   "execution_count": 49,
   "id": "e8d4dccf",
   "metadata": {},
   "outputs": [
    {
     "name": "stdout",
     "output_type": "stream",
     "text": [
      "<class 'set'>\n",
      " After type casting\n",
      " b = ('b', 'd', 'c', 'a') and it's type is <class 'tuple'>\n"
     ]
    }
   ],
   "source": [
    "# Set To Tuple\n",
    "a = {'b', 'd', 'c', 'a'}\n",
    "print(f\"{type(a)}\\n After type casting\")\n",
    "b = tuple(a)\n",
    "print(f\" b = {b} and it's type is {type(b)}\")\n"
   ]
  },
  {
   "cell_type": "code",
   "execution_count": 48,
   "id": "d1457830",
   "metadata": {},
   "outputs": [
    {
     "name": "stdout",
     "output_type": "stream",
     "text": [
      "<class 'list'>\n",
      " After type casting\n",
      " b = {1: 'Ketan', 2: 'Kailas', 3: 'Ohal'} and it's type is <class 'dict'>\n"
     ]
    }
   ],
   "source": [
    "# List To Dictionary\n",
    "a = [(1,'Ketan'), (2,'Kailas'),(3,'Ohal')]\n",
    "print(f\"{type(a)}\\n After type casting\")\n",
    "b = dict(a)\n",
    "print(f\" b = {b} and it's type is {type(b)}\")\n"
   ]
  },
  {
   "cell_type": "code",
   "execution_count": 47,
   "id": "e1b50327",
   "metadata": {},
   "outputs": [
    {
     "name": "stdout",
     "output_type": "stream",
     "text": [
      "<class 'set'>\n",
      " After type casting\n",
      " b = {2: 3, 4: 5, 1: 2} and it's type is <class 'dict'>\n"
     ]
    }
   ],
   "source": [
    "# Set to Dictionary\n",
    "a = {(1,2),(2,3),(4,5)}\n",
    "print(f\"{type(a)}\\n After type casting\")\n",
    "b = dict(a)\n",
    "print(f\" b = {b} and it's type is {type(b)}\")\n"
   ]
  },
  {
   "cell_type": "code",
   "execution_count": 56,
   "id": "cb2fccb8",
   "metadata": {},
   "outputs": [
    {
     "name": "stdout",
     "output_type": "stream",
     "text": [
      "<class 'dict'>\n",
      " After typecasting\n",
      " b = [2, 4, 1] and it's type is <class 'list'>\n"
     ]
    }
   ],
   "source": [
    "#Dictionary to list\n",
    "a = {2: 3, 4: 5, 1: 2}\n",
    "print(f\"{type(a)}\\n After typecasting\")\n",
    "b = list(a)\n",
    "print(f\" b = {b} and it's type is {type(b)}\")\n"
   ]
  },
  {
   "cell_type": "code",
   "execution_count": 61,
   "id": "d036f1f7",
   "metadata": {},
   "outputs": [
    {
     "name": "stdout",
     "output_type": "stream",
     "text": [
      "This is Default list [1, 2, 3, 4, 5, 6]\n",
      "After using append operation[1, 2, 3, 4, 5, 6, 3]\n",
      "After using extend operation[1, 2, 3, 4, 5, 6, 3, 7, 8, 9]\n",
      "After using insert operation[1, 2, 2, 3, 4, 5, 6, 3, 7, 8, 9]\n"
     ]
    }
   ],
   "source": [
    "#list Operation\n",
    "\"\"\"\n",
    "append - to insert the element at last node\n",
    "extend - to add the elemenent at last\n",
    "insert - to add the element at specific index\n",
    "\n",
    "\"\"\"\n",
    "ls = [1,2,3,4,5,6]\n",
    "print(f\"This is Default list {ls}\")\n",
    "ls.append(3)\n",
    "print(f\"After using append operation{ls}\")\n",
    "ls.extend([7,8,9])\n",
    "print(f\"After using extend operation{ls}\")\n",
    "ls.insert(2,2)\n",
    "print(f\"After using insert operation{ls}\")\n"
   ]
  },
  {
   "cell_type": "code",
   "execution_count": null,
   "id": "598b122c",
   "metadata": {},
   "outputs": [],
   "source": []
  }
 ],
 "metadata": {
  "kernelspec": {
   "display_name": "Python 3 (ipykernel)",
   "language": "python",
   "name": "python3"
  },
  "language_info": {
   "codemirror_mode": {
    "name": "ipython",
    "version": 3
   },
   "file_extension": ".py",
   "mimetype": "text/x-python",
   "name": "python",
   "nbconvert_exporter": "python",
   "pygments_lexer": "ipython3",
   "version": "3.10.2"
  }
 },
 "nbformat": 4,
 "nbformat_minor": 5
}
