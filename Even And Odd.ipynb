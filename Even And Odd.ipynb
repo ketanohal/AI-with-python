{
 "cells": [
  {
   "cell_type": "markdown",
   "id": "64e88514",
   "metadata": {},
   "source": [
    "Even and odd list using for and if else loop"
   ]
  },
  {
   "cell_type": "code",
   "execution_count": 5,
   "id": "928adae8",
   "metadata": {},
   "outputs": [
    {
     "name": "stdout",
     "output_type": "stream",
     "text": [
      " Even list: [2, 4, 6, 8, 10, 12, 14, 16, 18] \n",
      " Odd List: [1, 3, 5, 7, 9, 11, 13, 15, 17, 19]\n"
     ]
    }
   ],
   "source": [
    "even = []\n",
    "odd = []\n",
    "for i in range(1,20):\n",
    "    if i%2 == 0:\n",
    "        even.append(i)\n",
    "    else:\n",
    "        odd.append(i)\n",
    "print(f\" Even list: {even} \\n Odd List: {odd}\")"
   ]
  },
  {
   "cell_type": "code",
   "execution_count": null,
   "id": "399b076b",
   "metadata": {},
   "outputs": [],
   "source": []
  }
 ],
 "metadata": {
  "kernelspec": {
   "display_name": "Python 3 (ipykernel)",
   "language": "python",
   "name": "python3"
  },
  "language_info": {
   "codemirror_mode": {
    "name": "ipython",
    "version": 3
   },
   "file_extension": ".py",
   "mimetype": "text/x-python",
   "name": "python",
   "nbconvert_exporter": "python",
   "pygments_lexer": "ipython3",
   "version": "3.10.2"
  }
 },
 "nbformat": 4,
 "nbformat_minor": 5
}
