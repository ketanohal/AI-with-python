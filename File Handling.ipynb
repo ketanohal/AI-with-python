{
 "cells": [
  {
   "cell_type": "code",
   "execution_count": 1,
   "id": "9a610887",
   "metadata": {},
   "outputs": [],
   "source": [
    "#read, write, append\n",
    "# read - use tp read the file \n",
    "# write - use to create and write the text in file\n",
    "#append - use to write the text in fille at last index\n",
    "# r+ - read + write\n",
    "# w+"
   ]
  },
  {
   "cell_type": "code",
   "execution_count": 4,
   "id": "285e825d",
   "metadata": {},
   "outputs": [],
   "source": [
    "file = open('newfile.txt',\"w\")"
   ]
  },
  {
   "cell_type": "code",
   "execution_count": 6,
   "id": "2830ad29",
   "metadata": {},
   "outputs": [
    {
     "data": {
      "text/plain": [
       "34"
      ]
     },
     "execution_count": 6,
     "metadata": {},
     "output_type": "execute_result"
    }
   ],
   "source": [
    "file.write(\"This is added using write function\")"
   ]
  },
  {
   "cell_type": "code",
   "execution_count": 7,
   "id": "67176c98",
   "metadata": {},
   "outputs": [],
   "source": [
    "file.close()"
   ]
  },
  {
   "cell_type": "code",
   "execution_count": 8,
   "id": "c986a812",
   "metadata": {},
   "outputs": [],
   "source": [
    "file2 = open(\"newfile.txt\",\"r\")"
   ]
  },
  {
   "cell_type": "code",
   "execution_count": 9,
   "id": "56ede4ea",
   "metadata": {},
   "outputs": [
    {
     "name": "stdout",
     "output_type": "stream",
     "text": [
      "This is added using write function\n"
     ]
    }
   ],
   "source": [
    "for i in file2:\n",
    "    print(i)"
   ]
  },
  {
   "cell_type": "code",
   "execution_count": 10,
   "id": "d0acc319",
   "metadata": {},
   "outputs": [],
   "source": [
    "file2.close()"
   ]
  },
  {
   "cell_type": "code",
   "execution_count": 11,
   "id": "30b67be0",
   "metadata": {},
   "outputs": [],
   "source": [
    "file3 = open('newfile.txt', \"a\")"
   ]
  },
  {
   "cell_type": "code",
   "execution_count": 13,
   "id": "f00e7c54",
   "metadata": {},
   "outputs": [
    {
     "data": {
      "text/plain": [
       "53"
      ]
     },
     "execution_count": 13,
     "metadata": {},
     "output_type": "execute_result"
    }
   ],
   "source": [
    "file3.write(\"\\n This is the next line written using append function\")"
   ]
  },
  {
   "cell_type": "code",
   "execution_count": 14,
   "id": "356ec9b5",
   "metadata": {},
   "outputs": [],
   "source": [
    "file3.close()"
   ]
  },
  {
   "cell_type": "code",
   "execution_count": 15,
   "id": "5453b7be",
   "metadata": {},
   "outputs": [],
   "source": [
    "file4 = open(\"newfile.txt\",\"r\")"
   ]
  },
  {
   "cell_type": "code",
   "execution_count": 16,
   "id": "c9b04378",
   "metadata": {},
   "outputs": [
    {
     "name": "stdout",
     "output_type": "stream",
     "text": [
      "This is added using write function\n",
      "\n",
      " This is the next line written using append function\n"
     ]
    }
   ],
   "source": [
    "for i in file4:\n",
    "    print(i)"
   ]
  },
  {
   "cell_type": "code",
   "execution_count": 17,
   "id": "e0393699",
   "metadata": {},
   "outputs": [],
   "source": [
    "file4.close()"
   ]
  },
  {
   "cell_type": "code",
   "execution_count": 18,
   "id": "0ee3d97c",
   "metadata": {},
   "outputs": [],
   "source": [
    "file5 = open(\"newfile.txt\",\"r+\")"
   ]
  },
  {
   "cell_type": "code",
   "execution_count": 20,
   "id": "f4bb63d0",
   "metadata": {},
   "outputs": [
    {
     "data": {
      "text/plain": [
       "14"
      ]
     },
     "execution_count": 20,
     "metadata": {},
     "output_type": "execute_result"
    }
   ],
   "source": [
    "file5.write(\"this is file 5\")\n"
   ]
  },
  {
   "cell_type": "code",
   "execution_count": 22,
   "id": "a6160e84",
   "metadata": {},
   "outputs": [
    {
     "name": "stdout",
     "output_type": "stream",
     "text": [
      "This is added using write function\n",
      "\n",
      " This is the next line written using append function\n"
     ]
    }
   ],
   "source": [
    "for i in file5:\n",
    "    print(i)"
   ]
  },
  {
   "cell_type": "code",
   "execution_count": 23,
   "id": "4525dcae",
   "metadata": {},
   "outputs": [],
   "source": [
    "file5.close()"
   ]
  },
  {
   "cell_type": "code",
   "execution_count": 24,
   "id": "49375859",
   "metadata": {},
   "outputs": [],
   "source": [
    "file6 = open('new2.txt','w+')"
   ]
  },
  {
   "cell_type": "code",
   "execution_count": 27,
   "id": "0d511db2",
   "metadata": {},
   "outputs": [
    {
     "data": {
      "text/plain": [
       "True"
      ]
     },
     "execution_count": 27,
     "metadata": {},
     "output_type": "execute_result"
    }
   ],
   "source": [
    "file6.writable()"
   ]
  },
  {
   "cell_type": "code",
   "execution_count": 28,
   "id": "db9dcfee",
   "metadata": {},
   "outputs": [
    {
     "data": {
      "text/plain": [
       "14"
      ]
     },
     "execution_count": 28,
     "metadata": {},
     "output_type": "execute_result"
    }
   ],
   "source": [
    "file6.write('this is file 6')"
   ]
  },
  {
   "cell_type": "code",
   "execution_count": 31,
   "id": "0d7dd6ee",
   "metadata": {},
   "outputs": [
    {
     "data": {
      "text/plain": [
       "True"
      ]
     },
     "execution_count": 31,
     "metadata": {},
     "output_type": "execute_result"
    }
   ],
   "source": [
    "file6.readable()"
   ]
  },
  {
   "cell_type": "code",
   "execution_count": 32,
   "id": "b5bc8344",
   "metadata": {},
   "outputs": [
    {
     "data": {
      "text/plain": [
       "True"
      ]
     },
     "execution_count": 32,
     "metadata": {},
     "output_type": "execute_result"
    }
   ],
   "source": [
    "file6.writable()"
   ]
  },
  {
   "cell_type": "code",
   "execution_count": null,
   "id": "ca13c833",
   "metadata": {},
   "outputs": [],
   "source": []
  }
 ],
 "metadata": {
  "kernelspec": {
   "display_name": "Python 3 (ipykernel)",
   "language": "python",
   "name": "python3"
  },
  "language_info": {
   "codemirror_mode": {
    "name": "ipython",
    "version": 3
   },
   "file_extension": ".py",
   "mimetype": "text/x-python",
   "name": "python",
   "nbconvert_exporter": "python",
   "pygments_lexer": "ipython3",
   "version": "3.10.2"
  }
 },
 "nbformat": 4,
 "nbformat_minor": 5
}
