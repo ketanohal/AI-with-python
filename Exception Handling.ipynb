{
 "cells": [
  {
   "cell_type": "code",
   "execution_count": 1,
   "id": "54f4adce",
   "metadata": {},
   "outputs": [
    {
     "name": "stdout",
     "output_type": "stream",
     "text": [
      "cannot divide by zero\n"
     ]
    }
   ],
   "source": [
    "try:\n",
    "    numerator = 10\n",
    "    denominator = 0\n",
    "    print(numerator/denominator)\n",
    "except:\n",
    "    print(\"cannot divide by zero\")"
   ]
  },
  {
   "cell_type": "code",
   "execution_count": 3,
   "id": "c0d8017e",
   "metadata": {},
   "outputs": [
    {
     "name": "stdout",
     "output_type": "stream",
     "text": [
      "5.0\n"
     ]
    }
   ],
   "source": [
    "try:\n",
    "    numerator = 10\n",
    "    denominator = 2\n",
    "    c = numerator/denominator\n",
    "except:\n",
    "    print(\"cannot divide by zero\")\n",
    "else:\n",
    "    print(c)"
   ]
  },
  {
   "cell_type": "code",
   "execution_count": 9,
   "id": "4fb8ddf9",
   "metadata": {},
   "outputs": [
    {
     "name": "stdout",
     "output_type": "stream",
     "text": [
      "list out of range\n",
      "[1, 2, 3, 4, 5]\n"
     ]
    }
   ],
   "source": [
    "try:\n",
    "    s = [1,2,3,4,5]\n",
    "    print(s[6])\n",
    "except:\n",
    "    print('list out of range')\n",
    "finally:\n",
    "    print(s)"
   ]
  },
  {
   "cell_type": "code",
   "execution_count": 10,
   "id": "8426dc78",
   "metadata": {},
   "outputs": [
    {
     "name": "stdout",
     "output_type": "stream",
     "text": [
      "0.3333333333333333\n",
      "Error occured\n",
      "list index out of range\n"
     ]
    }
   ],
   "source": [
    "try:\n",
    "    a = 1\n",
    "    b = 3\n",
    "    c = a/b\n",
    "    print(c)\n",
    "    d = [1,2,3,4]\n",
    "    print(d[6])\n",
    "except Exception as e:\n",
    "    print('Error occured')\n",
    "    print(e)\n",
    "except:\n",
    "    print('Another error')"
   ]
  },
  {
   "cell_type": "code",
   "execution_count": null,
   "id": "ff9f6ad2",
   "metadata": {},
   "outputs": [],
   "source": []
  }
 ],
 "metadata": {
  "kernelspec": {
   "display_name": "Python 3 (ipykernel)",
   "language": "python",
   "name": "python3"
  },
  "language_info": {
   "codemirror_mode": {
    "name": "ipython",
    "version": 3
   },
   "file_extension": ".py",
   "mimetype": "text/x-python",
   "name": "python",
   "nbconvert_exporter": "python",
   "pygments_lexer": "ipython3",
   "version": "3.10.2"
  }
 },
 "nbformat": 4,
 "nbformat_minor": 5
}
